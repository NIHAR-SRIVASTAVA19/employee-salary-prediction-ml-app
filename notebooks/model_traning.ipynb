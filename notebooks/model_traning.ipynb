{
 "cells": [
  {
   "cell_type": "code",
   "execution_count": 13,
   "id": "82dfa871",
   "metadata": {},
   "outputs": [],
   "source": [
    "import pandas as pd\n",
    "import numpy as np\n",
    "import matplotlib.pyplot as plt\n",
    "from sklearn.preprocessing import LabelEncoder, OneHotEncoder, StandardScaler\n",
    "from sklearn.compose import ColumnTransformer\n",
    "from sklearn.pipeline import Pipeline\n",
    "from sklearn.model_selection import train_test_split\n",
    "from sklearn.linear_model import LogisticRegression\n",
    "from sklearn.ensemble import RandomForestClassifier, GradientBoostingClassifier\n",
    "from sklearn.neighbors import KNeighborsClassifier\n",
    "from sklearn.svm import SVC\n",
    "from sklearn.metrics import accuracy_score, classification_report, confusion_matrix"
   ]
  },
  {
   "cell_type": "markdown",
   "id": "09249e82",
   "metadata": {},
   "source": [
    "### IMPORTING DATA SET"
   ]
  },
  {
   "cell_type": "code",
   "execution_count": 14,
   "id": "79d1b176",
   "metadata": {},
   "outputs": [
    {
     "data": {
      "text/html": [
       "<div>\n",
       "<style scoped>\n",
       "    .dataframe tbody tr th:only-of-type {\n",
       "        vertical-align: middle;\n",
       "    }\n",
       "\n",
       "    .dataframe tbody tr th {\n",
       "        vertical-align: top;\n",
       "    }\n",
       "\n",
       "    .dataframe thead th {\n",
       "        text-align: right;\n",
       "    }\n",
       "</style>\n",
       "<table border=\"1\" class=\"dataframe\">\n",
       "  <thead>\n",
       "    <tr style=\"text-align: right;\">\n",
       "      <th></th>\n",
       "      <th>age</th>\n",
       "      <th>workclass</th>\n",
       "      <th>fnlwgt</th>\n",
       "      <th>education</th>\n",
       "      <th>educational-num</th>\n",
       "      <th>marital-status</th>\n",
       "      <th>occupation</th>\n",
       "      <th>relationship</th>\n",
       "      <th>race</th>\n",
       "      <th>gender</th>\n",
       "      <th>capital-gain</th>\n",
       "      <th>capital-loss</th>\n",
       "      <th>hours-per-week</th>\n",
       "      <th>native-country</th>\n",
       "      <th>income</th>\n",
       "    </tr>\n",
       "  </thead>\n",
       "  <tbody>\n",
       "    <tr>\n",
       "      <th>0</th>\n",
       "      <td>25</td>\n",
       "      <td>Private</td>\n",
       "      <td>226802</td>\n",
       "      <td>11th</td>\n",
       "      <td>7</td>\n",
       "      <td>Never-married</td>\n",
       "      <td>Machine-op-inspct</td>\n",
       "      <td>Own-child</td>\n",
       "      <td>Black</td>\n",
       "      <td>Male</td>\n",
       "      <td>0</td>\n",
       "      <td>0</td>\n",
       "      <td>40</td>\n",
       "      <td>United-States</td>\n",
       "      <td>&lt;=50K</td>\n",
       "    </tr>\n",
       "    <tr>\n",
       "      <th>1</th>\n",
       "      <td>38</td>\n",
       "      <td>Private</td>\n",
       "      <td>89814</td>\n",
       "      <td>HS-grad</td>\n",
       "      <td>9</td>\n",
       "      <td>Married-civ-spouse</td>\n",
       "      <td>Farming-fishing</td>\n",
       "      <td>Husband</td>\n",
       "      <td>White</td>\n",
       "      <td>Male</td>\n",
       "      <td>0</td>\n",
       "      <td>0</td>\n",
       "      <td>50</td>\n",
       "      <td>United-States</td>\n",
       "      <td>&lt;=50K</td>\n",
       "    </tr>\n",
       "    <tr>\n",
       "      <th>2</th>\n",
       "      <td>28</td>\n",
       "      <td>Local-gov</td>\n",
       "      <td>336951</td>\n",
       "      <td>Assoc-acdm</td>\n",
       "      <td>12</td>\n",
       "      <td>Married-civ-spouse</td>\n",
       "      <td>Protective-serv</td>\n",
       "      <td>Husband</td>\n",
       "      <td>White</td>\n",
       "      <td>Male</td>\n",
       "      <td>0</td>\n",
       "      <td>0</td>\n",
       "      <td>40</td>\n",
       "      <td>United-States</td>\n",
       "      <td>&gt;50K</td>\n",
       "    </tr>\n",
       "    <tr>\n",
       "      <th>3</th>\n",
       "      <td>44</td>\n",
       "      <td>Private</td>\n",
       "      <td>160323</td>\n",
       "      <td>Some-college</td>\n",
       "      <td>10</td>\n",
       "      <td>Married-civ-spouse</td>\n",
       "      <td>Machine-op-inspct</td>\n",
       "      <td>Husband</td>\n",
       "      <td>Black</td>\n",
       "      <td>Male</td>\n",
       "      <td>7688</td>\n",
       "      <td>0</td>\n",
       "      <td>40</td>\n",
       "      <td>United-States</td>\n",
       "      <td>&gt;50K</td>\n",
       "    </tr>\n",
       "    <tr>\n",
       "      <th>4</th>\n",
       "      <td>18</td>\n",
       "      <td>?</td>\n",
       "      <td>103497</td>\n",
       "      <td>Some-college</td>\n",
       "      <td>10</td>\n",
       "      <td>Never-married</td>\n",
       "      <td>?</td>\n",
       "      <td>Own-child</td>\n",
       "      <td>White</td>\n",
       "      <td>Female</td>\n",
       "      <td>0</td>\n",
       "      <td>0</td>\n",
       "      <td>30</td>\n",
       "      <td>United-States</td>\n",
       "      <td>&lt;=50K</td>\n",
       "    </tr>\n",
       "  </tbody>\n",
       "</table>\n",
       "</div>"
      ],
      "text/plain": [
       "   age  workclass  fnlwgt     education  educational-num      marital-status  \\\n",
       "0   25    Private  226802          11th                7       Never-married   \n",
       "1   38    Private   89814       HS-grad                9  Married-civ-spouse   \n",
       "2   28  Local-gov  336951    Assoc-acdm               12  Married-civ-spouse   \n",
       "3   44    Private  160323  Some-college               10  Married-civ-spouse   \n",
       "4   18          ?  103497  Some-college               10       Never-married   \n",
       "\n",
       "          occupation relationship   race  gender  capital-gain  capital-loss  \\\n",
       "0  Machine-op-inspct    Own-child  Black    Male             0             0   \n",
       "1    Farming-fishing      Husband  White    Male             0             0   \n",
       "2    Protective-serv      Husband  White    Male             0             0   \n",
       "3  Machine-op-inspct      Husband  Black    Male          7688             0   \n",
       "4                  ?    Own-child  White  Female             0             0   \n",
       "\n",
       "   hours-per-week native-country income  \n",
       "0              40  United-States  <=50K  \n",
       "1              50  United-States  <=50K  \n",
       "2              40  United-States   >50K  \n",
       "3              40  United-States   >50K  \n",
       "4              30  United-States  <=50K  "
      ]
     },
     "execution_count": 14,
     "metadata": {},
     "output_type": "execute_result"
    }
   ],
   "source": [
    "data= pd.read_csv(r\"..\\data\\adult 3.csv\")\n",
    "data.head()"
   ]
  },
  {
   "cell_type": "code",
   "execution_count": 15,
   "id": "b3ed3f41",
   "metadata": {},
   "outputs": [
    {
     "name": "stdout",
     "output_type": "stream",
     "text": [
      "(48842, 15)\n",
      "<class 'pandas.core.frame.DataFrame'>\n",
      "RangeIndex: 48842 entries, 0 to 48841\n",
      "Data columns (total 15 columns):\n",
      " #   Column           Non-Null Count  Dtype \n",
      "---  ------           --------------  ----- \n",
      " 0   age              48842 non-null  int64 \n",
      " 1   workclass        48842 non-null  object\n",
      " 2   fnlwgt           48842 non-null  int64 \n",
      " 3   education        48842 non-null  object\n",
      " 4   educational-num  48842 non-null  int64 \n",
      " 5   marital-status   48842 non-null  object\n",
      " 6   occupation       48842 non-null  object\n",
      " 7   relationship     48842 non-null  object\n",
      " 8   race             48842 non-null  object\n",
      " 9   gender           48842 non-null  object\n",
      " 10  capital-gain     48842 non-null  int64 \n",
      " 11  capital-loss     48842 non-null  int64 \n",
      " 12  hours-per-week   48842 non-null  int64 \n",
      " 13  native-country   48842 non-null  object\n",
      " 14  income           48842 non-null  object\n",
      "dtypes: int64(6), object(9)\n",
      "memory usage: 5.6+ MB\n",
      "None \n",
      "\n"
     ]
    }
   ],
   "source": [
    "print(data.shape)\n",
    "print(f\"{data.info()} \\n\")"
   ]
  },
  {
   "cell_type": "code",
   "execution_count": 16,
   "id": "168a6fad",
   "metadata": {},
   "outputs": [
    {
     "name": "stdout",
     "output_type": "stream",
     "text": [
      "age\n",
      "36    1348\n",
      "35    1337\n",
      "33    1335\n",
      "23    1329\n",
      "31    1325\n",
      "      ... \n",
      "88       6\n",
      "85       5\n",
      "87       3\n",
      "89       2\n",
      "86       1\n",
      "Name: count, Length: 74, dtype: int64\n",
      "\n",
      "workclass\n",
      "Private             33906\n",
      "Self-emp-not-inc     3862\n",
      "Local-gov            3136\n",
      "?                    2799\n",
      "State-gov            1981\n",
      "Self-emp-inc         1695\n",
      "Federal-gov          1432\n",
      "Without-pay            21\n",
      "Never-worked           10\n",
      "Name: count, dtype: int64\n",
      "\n",
      "education\n",
      "HS-grad         15784\n",
      "Some-college    10878\n",
      "Bachelors        8025\n",
      "Masters          2657\n",
      "Assoc-voc        2061\n",
      "11th             1812\n",
      "Assoc-acdm       1601\n",
      "10th             1389\n",
      "7th-8th           955\n",
      "Prof-school       834\n",
      "9th               756\n",
      "12th              657\n",
      "Doctorate         594\n",
      "5th-6th           509\n",
      "1st-4th           247\n",
      "Preschool          83\n",
      "Name: count, dtype: int64\n",
      "\n",
      "educational-num\n",
      "9     15784\n",
      "10    10878\n",
      "13     8025\n",
      "14     2657\n",
      "11     2061\n",
      "7      1812\n",
      "12     1601\n",
      "6      1389\n",
      "4       955\n",
      "15      834\n",
      "5       756\n",
      "8       657\n",
      "16      594\n",
      "3       509\n",
      "2       247\n",
      "1        83\n",
      "Name: count, dtype: int64\n",
      "\n",
      "marital-status\n",
      "Married-civ-spouse       22379\n",
      "Never-married            16117\n",
      "Divorced                  6633\n",
      "Separated                 1530\n",
      "Widowed                   1518\n",
      "Married-spouse-absent      628\n",
      "Married-AF-spouse           37\n",
      "Name: count, dtype: int64\n",
      "\n",
      "occupation\n",
      "Prof-specialty       6172\n",
      "Craft-repair         6112\n",
      "Exec-managerial      6086\n",
      "Adm-clerical         5611\n",
      "Sales                5504\n",
      "Other-service        4923\n",
      "Machine-op-inspct    3022\n",
      "?                    2809\n",
      "Transport-moving     2355\n",
      "Handlers-cleaners    2072\n",
      "Farming-fishing      1490\n",
      "Tech-support         1446\n",
      "Protective-serv       983\n",
      "Priv-house-serv       242\n",
      "Armed-Forces           15\n",
      "Name: count, dtype: int64\n",
      "\n",
      "capital-gain\n",
      "0        44807\n",
      "15024      513\n",
      "7688       410\n",
      "7298       364\n",
      "99999      244\n",
      "         ...  \n",
      "6612         1\n",
      "1111         1\n",
      "22040        1\n",
      "1639         1\n",
      "2387         1\n",
      "Name: count, Length: 123, dtype: int64\n",
      "\n",
      "capital-loss\n",
      "0       46560\n",
      "1902      304\n",
      "1977      253\n",
      "1887      233\n",
      "2415       72\n",
      "        ...  \n",
      "1539        1\n",
      "2489        1\n",
      "2080        1\n",
      "155         1\n",
      "2201        1\n",
      "Name: count, Length: 99, dtype: int64\n",
      "\n",
      "hours-per-week\n",
      "40    22803\n",
      "50     4246\n",
      "45     2717\n",
      "60     2177\n",
      "35     1937\n",
      "      ...  \n",
      "79        1\n",
      "94        1\n",
      "87        1\n",
      "69        1\n",
      "82        1\n",
      "Name: count, Length: 96, dtype: int64\n",
      "\n",
      "native-country\n",
      "United-States                 43832\n",
      "Mexico                          951\n",
      "?                               857\n",
      "Philippines                     295\n",
      "Germany                         206\n",
      "Puerto-Rico                     184\n",
      "Canada                          182\n",
      "El-Salvador                     155\n",
      "India                           151\n",
      "Cuba                            138\n",
      "England                         127\n",
      "China                           122\n",
      "South                           115\n",
      "Jamaica                         106\n",
      "Italy                           105\n",
      "Dominican-Republic              103\n",
      "Japan                            92\n",
      "Guatemala                        88\n",
      "Poland                           87\n",
      "Vietnam                          86\n",
      "Columbia                         85\n",
      "Haiti                            75\n",
      "Portugal                         67\n",
      "Taiwan                           65\n",
      "Iran                             59\n",
      "Nicaragua                        49\n",
      "Greece                           49\n",
      "Peru                             46\n",
      "Ecuador                          45\n",
      "France                           38\n",
      "Ireland                          37\n",
      "Thailand                         30\n",
      "Hong                             30\n",
      "Cambodia                         28\n",
      "Trinadad&Tobago                  27\n",
      "Laos                             23\n",
      "Outlying-US(Guam-USVI-etc)       23\n",
      "Yugoslavia                       23\n",
      "Scotland                         21\n",
      "Honduras                         20\n",
      "Hungary                          19\n",
      "Holand-Netherlands                1\n",
      "Name: count, dtype: int64\n",
      "\n"
     ]
    }
   ],
   "source": [
    "print(f\"{data['age'].value_counts()}\\n\")\n",
    "print(f\"{data['workclass'].value_counts()}\\n\")\n",
    "print(f\"{data['education'].value_counts()}\\n\")\n",
    "print(f\"{data['educational-num'].value_counts()}\\n\")\n",
    "print(f\"{data['marital-status'].value_counts()}\\n\")\n",
    "print(f\"{data['occupation'].value_counts()}\\n\")\n",
    "print(f\"{data['capital-gain'].value_counts()}\\n\")\n",
    "print(f\"{data['capital-loss'].value_counts()}\\n\")\n",
    "print(f\"{data['hours-per-week'].value_counts()}\\n\")\n",
    "print(f\"{data['native-country'].value_counts()}\\n\")"
   ]
  },
  {
   "cell_type": "markdown",
   "id": "7539b3d1",
   "metadata": {},
   "source": [
    "### REPLACING SPECIAL CHARACTER(?) WITH \"NOTLISTED\""
   ]
  },
  {
   "cell_type": "code",
   "execution_count": 17,
   "id": "7021a595",
   "metadata": {},
   "outputs": [],
   "source": [
    "data['workclass'] = data['workclass'].replace({'?': 'NotListed'})\n",
    "data['occupation'] = data['occupation'].replace({'?': 'NotListed'})\n",
    "data['native-country'] = data['native-country'].replace({'?': 'NotListed'})"
   ]
  },
  {
   "cell_type": "markdown",
   "id": "32089b7b",
   "metadata": {},
   "source": [
    "### DELETING THE CATEGORIES WHICH DOES NOT CONTRIBUTE TO INCOME"
   ]
  },
  {
   "cell_type": "code",
   "execution_count": 18,
   "id": "2fba0bae",
   "metadata": {},
   "outputs": [],
   "source": [
    "data=data[data['workclass']!='Without-pay']\n",
    "data=data[data['workclass']!='Never-worked']\n",
    "data=data[~data['education'].isin(['5th-6th','1st-4th','Preschool'])]"
   ]
  },
  {
   "cell_type": "markdown",
   "id": "888edad9",
   "metadata": {},
   "source": [
    "### GROUPING LESS OCCURING CATEGORIES TO \"RARE\""
   ]
  },
  {
   "cell_type": "code",
   "execution_count": 19,
   "id": "a772f0f1",
   "metadata": {},
   "outputs": [],
   "source": [
    "# Replace rare marital-status with 'Other'\n",
    "data['marital-status']=data['marital-status'].replace({'Married-AF-spouse':'Others'})\n",
    "\n",
    "# Replace rare occupation with 'Other'\n",
    "data['occupation']=data['occupation'].replace({'Priv-house-serv':'Others', 'Armed-Forces':'Others'})\n",
    "\n",
    "# Set a threshold for frequency\n",
    "country_counts = data['native-country'].value_counts()\n",
    "rare_countries = country_counts[country_counts < 100].index\n",
    "\n",
    "# Replace rare countries with 'Other'\n",
    "data['native-country'] = data['native-country'].replace(rare_countries, 'Other')\n"
   ]
  },
  {
   "cell_type": "markdown",
   "id": "fd6db5b5",
   "metadata": {},
   "source": [
    "### DROPING THE REDUNDANT OR NOT USEFUL COLUMNS"
   ]
  },
  {
   "cell_type": "code",
   "execution_count": 20,
   "id": "6598dfc0",
   "metadata": {},
   "outputs": [],
   "source": [
    "drop_cols = ['fnlwgt', 'education', 'relationship']\n",
    "data.drop(drop_cols, axis=1, inplace=True)\n"
   ]
  },
  {
   "cell_type": "markdown",
   "id": "58ace2d1",
   "metadata": {},
   "source": [
    "### REMOVING THE OUTLIERS"
   ]
  },
  {
   "cell_type": "code",
   "execution_count": 21,
   "id": "a0446898",
   "metadata": {},
   "outputs": [
    {
     "data": {
      "image/png": "[encoded data removed]",
      "text/plain": [
       "<Figure size 640x480 with 1 Axes>"
      ]
     },
     "metadata": {},
     "output_type": "display_data"
    }
   ],
   "source": [
    "plt.boxplot(data['age'])\n",
    "plt.show()"
   ]
  },
  {
   "cell_type": "code",
   "execution_count": 22,
   "id": "d91f6866",
   "metadata": {},
   "outputs": [
    {
     "data": {
      "image/png": "[encoded data removed]",
      "text/plain": [
       "<Figure size 640x480 with 1 Axes>"
      ]
     },
     "metadata": {},
     "output_type": "display_data"
    },
    {
     "name": "stdout",
     "output_type": "stream",
     "text": [
      "(47029, 12)\n"
     ]
    }
   ],
   "source": [
    "data=data[(data['age']>=18) & (data['age']<=75)]\n",
    "plt.boxplot(data['age'])\n",
    "plt.show()\n",
    "print(data.shape)"
   ]
  },
  {
   "cell_type": "markdown",
   "id": "5b9d25d5",
   "metadata": {},
   "source": [
    "### SPLITTING THE DATA INTO FEATURES(X) AND TARGET(y)"
   ]
  },
  {
   "cell_type": "code",
   "execution_count": 23,
   "id": "5c721316",
   "metadata": {},
   "outputs": [],
   "source": [
    "X= data.drop('income', axis=1)\n",
    "y= data['income']"
   ]
  },
  {
   "cell_type": "markdown",
   "id": "ebf110c3",
   "metadata": {},
   "source": [
    "### DATA ENCODING"
   ]
  },
  {
   "cell_type": "code",
   "execution_count": 24,
   "id": "583b6546",
   "metadata": {},
   "outputs": [],
   "source": [
    "# Gender Encoding\n",
    "gender_encoder = LabelEncoder()\n",
    "X['gender'] = gender_encoder.fit_transform(X['gender'])\n",
    "\n",
    "# Income\n",
    "income_encoder = LabelEncoder()\n",
    "y = income_encoder.fit_transform(data['income'])\n",
    "\n",
    "numerical_cols = ['age', 'educational-num', 'capital-gain', 'capital-loss', 'hours-per-week','gender']\n",
    "categorical_cols = ['workclass', 'marital-status', 'occupation', 'race', 'native-country']\n",
    "\n",
    "\n",
    "# Preprocessor: OneHot for categorical, Scale for numeric + label-encoded\n",
    "preprocessor = ColumnTransformer(transformers=[\n",
    "    ('num', StandardScaler(), numerical_cols),  # numeric + label encoded\n",
    "    ('cat', OneHotEncoder(handle_unknown='ignore'), categorical_cols)\n",
    "])"
   ]
  },
  {
   "cell_type": "markdown",
   "id": "2f645c8c",
   "metadata": {},
   "source": [
    "### TRAIN/TEST SPLIT"
   ]
  },
  {
   "cell_type": "code",
   "execution_count": 25,
   "id": "5bb7c6ac",
   "metadata": {},
   "outputs": [],
   "source": [
    "X_train, X_test, y_train, y_test = train_test_split(X, y, test_size=0.2, random_state=42,stratify=y)"
   ]
  },
  {
   "cell_type": "markdown",
   "id": "6a7834d0",
   "metadata": {},
   "source": [
    "### MODEL PIPELINE"
   ]
  },
  {
   "cell_type": "code",
   "execution_count": 26,
   "id": "e6d424fc",
   "metadata": {},
   "outputs": [],
   "source": [
    "from sklearn.pipeline import Pipeline\n",
    "from sklearn.metrics import accuracy_score, classification_report, confusion_matrix\n",
    "\n",
    "# Define models\n",
    "models = {\n",
    "    \"Logistic Regression\": LogisticRegression(max_iter=1000,class_weight='balanced'),\n",
    "    \"Random Forest\": RandomForestClassifier(random_state=42,class_weight='balanced'),\n",
    "    \"Gradient Boosting\": GradientBoostingClassifier(random_state=42),\n",
    "    \"KNN\": KNeighborsClassifier(),\n",
    "    \"SVC\": SVC(class_weight='balanced')\n",
    "}\n",
    "\n",
    "# Store results\n",
    "results = {}\n",
    "\n",
    "# Train and evaluate each model\n",
    "for name, model in models.items():\n",
    "    pipeline = Pipeline([\n",
    "        (\"preprocessor\", preprocessor),\n",
    "        (\"classifier\", model)\n",
    "    ])\n",
    "    \n",
    "    pipeline.fit(X_train, y_train)\n",
    "    y_pred = pipeline.predict(X_test)\n",
    "    \n",
    "    acc = accuracy_score(y_test, y_pred)\n",
    "    \n",
    "    results[name] = {\n",
    "        \"accuracy\": acc,\n",
    "        \"classification_report\": classification_report(y_test, y_pred,output_dict=True),\n",
    "        \"confusion_matrix\": confusion_matrix(y_test, y_pred),\n",
    "        \"model\": pipeline  # Store pipeline in case you want to save later\n",
    "    }\n",
    "\n",
    "\n"
   ]
  },
  {
   "cell_type": "markdown",
   "id": "00b961a2",
   "metadata": {},
   "source": [
    "### RESULT"
   ]
  },
  {
   "cell_type": "code",
   "execution_count": 27,
   "id": "b0155706",
   "metadata": {},
   "outputs": [
    {
     "name": "stdout",
     "output_type": "stream",
     "text": [
      "Model Results:\n",
      "\n",
      "Logistic Regression - Accuracy: 0.8046\n",
      "Classification Report:\n",
      " {'0': {'precision': 0.9361914257228315, 'recall': 0.7948645598194131, 'f1-score': 0.8597588890584466, 'support': 7088.0}, '1': {'precision': 0.5708382526564345, 'recall': 0.8343399482312338, 'f1-score': 0.6778829302488608, 'support': 2318.0}, 'accuracy': 0.8045928130980226, 'macro avg': {'precision': 0.753514839189633, 'recall': 0.8146022540253235, 'f1-score': 0.7688209096536537, 'support': 9406.0}, 'weighted avg': {'precision': 0.8461543584075106, 'recall': 0.8045928130980226, 'f1-score': 0.8149376608508535, 'support': 9406.0}}\n",
      "Confusion Matrix:\n",
      " [[5634 1454]\n",
      " [ 384 1934]]\n",
      "------------------------------------------------------------\n",
      "Random Forest - Accuracy: 0.8419\n",
      "Classification Report:\n",
      " {'0': {'precision': 0.8886884108258154, 'recall': 0.9033577878103838, 'f1-score': 0.8959630588399916, 'support': 7088.0}, '1': {'precision': 0.6887778282598819, 'recall': 0.6540120793787748, 'f1-score': 0.6709448993140075, 'support': 2318.0}, 'accuracy': 0.8419094195194556, 'macro avg': {'precision': 0.7887331195428486, 'recall': 0.7786849335945794, 'f1-score': 0.7834539790769995, 'support': 9406.0}, 'weighted avg': {'precision': 0.8394227580097582, 'recall': 0.8419094195194556, 'f1-score': 0.8405099338366713, 'support': 9406.0}}\n",
      "Confusion Matrix:\n",
      " [[6403  685]\n",
      " [ 802 1516]]\n",
      "------------------------------------------------------------\n",
      "Gradient Boosting - Accuracy: 0.8623\n",
      "Classification Report:\n",
      " {'0': {'precision': 0.8813693219223173, 'recall': 0.9444130925507901, 'f1-score': 0.9118027651024995, 'support': 7088.0}, '1': {'precision': 0.7824406405300939, 'recall': 0.6113028472821398, 'f1-score': 0.6863647372245095, 'support': 2318.0}, 'accuracy': 0.8623219221773336, 'macro avg': {'precision': 0.8319049812262056, 'recall': 0.7778579699164649, 'f1-score': 0.7990837511635045, 'support': 9406.0}, 'weighted avg': {'precision': 0.8569894916578931, 'recall': 0.8623219221773336, 'f1-score': 0.8562461683960163, 'support': 9406.0}}\n",
      "Confusion Matrix:\n",
      " [[6694  394]\n",
      " [ 901 1417]]\n",
      "------------------------------------------------------------\n",
      "KNN - Accuracy: 0.8327\n",
      "Classification Report:\n",
      " {'0': {'precision': 0.8774644030668127, 'recall': 0.9042042889390519, 'f1-score': 0.8906336853807671, 'support': 7088.0}, '1': {'precision': 0.6769743101807802, 'recall': 0.6138912855910268, 'f1-score': 0.6438914027149322, 'support': 2318.0}, 'accuracy': 0.8326600042526047, 'macro avg': {'precision': 0.7772193566237965, 'recall': 0.7590477872650394, 'f1-score': 0.7672625440478497, 'support': 9406.0}, 'weighted avg': {'precision': 0.8280559366294511, 'recall': 0.8326600042526047, 'f1-score': 0.8298269012834457, 'support': 9406.0}}\n",
      "Confusion Matrix:\n",
      " [[6409  679]\n",
      " [ 895 1423]]\n",
      "------------------------------------------------------------\n",
      "SVC - Accuracy: 0.8030\n",
      "Classification Report:\n",
      " {'0': {'precision': 0.9464438001023366, 'recall': 0.782872460496614, 'f1-score': 0.8569222453864567, 'support': 7088.0}, '1': {'precision': 0.5656223539373413, 'recall': 0.8645383951682485, 'f1-score': 0.6838423477222317, 'support': 2318.0}, 'accuracy': 0.8029980863278758, 'macro avg': {'precision': 0.7560330770198389, 'recall': 0.8237054278324312, 'f1-score': 0.7703822965543442, 'support': 9406.0}, 'weighted avg': {'precision': 0.8525947556402423, 'recall': 0.8029980863278758, 'f1-score': 0.8142687047968677, 'support': 9406.0}}\n",
      "Confusion Matrix:\n",
      " [[5549 1539]\n",
      " [ 314 2004]]\n",
      "------------------------------------------------------------\n"
     ]
    }
   ],
   "source": [
    "# Print results\n",
    "print(\"Model Results:\\n\")\n",
    "for name, result in results.items():\n",
    "    print(f\"{name} - Accuracy: {result['accuracy']:.4f}\")\n",
    "    print(\"Classification Report:\\n\", result['classification_report'])\n",
    "    print(\"Confusion Matrix:\\n\", result['confusion_matrix'])\n",
    "    print(\"-\" * 60)"
   ]
  },
  {
   "cell_type": "markdown",
   "id": "25539e3a",
   "metadata": {},
   "source": [
    "### SAVING THE BEST MODEL"
   ]
  },
  {
   "cell_type": "code",
   "execution_count": 28,
   "id": "d9c5b1dc",
   "metadata": {},
   "outputs": [
    {
     "name": "stdout",
     "output_type": "stream",
     "text": [
      "Saved full pipeline model as 'models/gb_pipeline.pkl'\n"
     ]
    }
   ],
   "source": [
    "# Find and save the best model\n",
    "best_model_name = max(results, key=lambda x: results[x]['accuracy'])\n",
    "best_pipeline = results[best_model_name]['model']\n",
    "\n",
    "import joblib\n",
    "\n",
    "# Saving full pipeline (preprocessing + classifier)\n",
    "joblib.dump(best_pipeline, f\"../models/gb_pipeline.pkl\")\n",
    "\n",
    "print(\"Saved full pipeline model as 'models/gb_pipeline.pkl'\")\n"
   ]
  },
  {
   "cell_type": "markdown",
   "id": "62980e1a",
   "metadata": {},
   "source": [
    "# MODEL ANALYSIS"
   ]
  },
  {
   "cell_type": "markdown",
   "id": "047163ca",
   "metadata": {},
   "source": [
    "### CONFUSION MATRIX"
   ]
  },
  {
   "cell_type": "code",
   "execution_count": 29,
   "id": "055bf718",
   "metadata": {},
   "outputs": [
    {
     "data": {
      "image/png": "[encoded data removed]",
      "text/plain": [
       "<Figure size 600x400 with 2 Axes>"
      ]
     },
     "metadata": {},
     "output_type": "display_data"
    }
   ],
   "source": [
    "# Visualize confusion matrix for the best model\n",
    "import seaborn as sns\n",
    "\n",
    "\n",
    "# Predict on test data using best model\n",
    "y_pred_best = best_pipeline.predict(X_test)\n",
    "\n",
    "# Creating confusion matrix\n",
    "cm = confusion_matrix(y_test, y_pred_best)\n",
    "\n",
    "# Save confusion matrix to a file\n",
    "np.save(\"../streamlit_app/pages/confusion_matrix.npy\", cm)\n",
    "\n",
    "# Plot it\n",
    "plt.figure(figsize=(6, 4))\n",
    "sns.heatmap(cm, annot=True, fmt=\"d\", cmap=\"Blues\")\n",
    "plt.title(f\"Confusion Matrix - {best_model_name}\")\n",
    "plt.xlabel(\"Predicted\")\n",
    "plt.ylabel(\"Actual\")\n",
    "plt.tight_layout()\n",
    "plt.show()\n"
   ]
  },
  {
   "cell_type": "markdown",
   "id": "ef3dd165",
   "metadata": {},
   "source": [
    "### FEATURE IMPORTANCE PLOT"
   ]
  },
  {
   "cell_type": "code",
   "execution_count": 30,
   "id": "68a584ca",
   "metadata": {},
   "outputs": [
    {
     "name": "stdout",
     "output_type": "stream",
     "text": [
      "Feature names: 54\n",
      "Importances: 54\n"
     ]
    },
    {
     "data": {
      "image/png": "[encoded data removed]",
      "text/plain": [
       "<Figure size 1200x800 with 1 Axes>"
      ]
     },
     "metadata": {},
     "output_type": "display_data"
    }
   ],
   "source": [
    "# Step 1: Get the preprocessor and classifier\n",
    "gb_model = results[\"Gradient Boosting\"][\"model\"]\n",
    "preprocessor = gb_model.named_steps[\"preprocessor\"]\n",
    "\n",
    "# Step 2: Get all feature names directly from the preprocessor\n",
    "all_feature_names = preprocessor.get_feature_names_out()\n",
    "\n",
    "# Step 3: Get feature importances from the classifier\n",
    "importances = gb_model.named_steps[\"classifier\"].feature_importances_\n",
    "\n",
    "# Sanity check\n",
    "print(\"Feature names:\", len(all_feature_names))\n",
    "print(\"Importances:\", len(importances))\n",
    "\n",
    "# Step 4: Create DataFrame\n",
    "feature_df = pd.DataFrame({\n",
    "    \"Feature\": all_feature_names,\n",
    "    \"Importance\": importances\n",
    "}).sort_values(by=\"Importance\", ascending=False).head(20)\n",
    "\n",
    "# Step 5: Save to correct location\n",
    "feature_df.to_csv(\"../streamlit_app/pages/feature_importance.csv\", index=False)\n",
    "\n",
    "\n",
    "# Step 6: Plot\n",
    "plt.figure(figsize=(12, 8))\n",
    "sns.barplot(data=feature_df, x=\"Importance\", y=\"Feature\", hue=\"Feature\", legend=False)\n",
    "\n",
    "plt.title(\"Top 20 Important Features - Gradient Boosting\")\n",
    "plt.xlabel(\"Importance Score\")\n",
    "plt.ylabel(\"Feature\")\n",
    "plt.tight_layout()\n",
    "plt.show()\n"
   ]
  },
  {
   "cell_type": "markdown",
   "id": "2f265e35",
   "metadata": {},
   "source": [
    "### PERFORMANCE TABLE"
   ]
  },
  {
   "cell_type": "code",
   "execution_count": 31,
   "id": "5ca0a124",
   "metadata": {},
   "outputs": [
    {
     "name": "stdout",
     "output_type": "stream",
     "text": [
      "                 Model  Accuracy  Precision  Recall  F1-score\n",
      "0    Gradient Boosting    0.8623     0.8319  0.7779    0.7991\n",
      "1        Random Forest    0.8419     0.7887  0.7787    0.7835\n",
      "2                  KNN    0.8327     0.7772  0.7590    0.7673\n",
      "3  Logistic Regression    0.8046     0.7535  0.8146    0.7688\n",
      "4                  SVC    0.8030     0.7560  0.8237    0.7704\n"
     ]
    }
   ],
   "source": [
    "# Extract performance metrics\n",
    "model_metrics = []\n",
    "\n",
    "for name, result in results.items():\n",
    "    report = result['classification_report']\n",
    "\n",
    "    metrics = {\n",
    "        \"Model\": name,\n",
    "        \"Accuracy\": round(result['accuracy'], 4),\n",
    "        \"Precision\": round(report[\"macro avg\"][\"precision\"], 4),\n",
    "        \"Recall\": round(report[\"macro avg\"][\"recall\"], 4),\n",
    "        \"F1-score\": round(report[\"macro avg\"][\"f1-score\"], 4)\n",
    "    }\n",
    "\n",
    "    model_metrics.append(metrics)\n",
    "\n",
    "# Create DataFrame\n",
    "performance_df = pd.DataFrame(model_metrics)\n",
    "performance_df = performance_df.sort_values(by=\"Accuracy\", ascending=False).reset_index(drop=True)\n",
    "\n",
    "# Display\n",
    "print(performance_df)\n"
   ]
  },
  {
   "cell_type": "code",
   "execution_count": 32,
   "id": "6b582486",
   "metadata": {},
   "outputs": [
    {
     "name": "stdout",
     "output_type": "stream",
     "text": [
      "Model performance metrics saved to ../streamlit_app/pages/model_performance.csv\n"
     ]
    }
   ],
   "source": [
    "import os\n",
    "\n",
    "# Creating the directory if not exists\n",
    "os.makedirs(\"../streamlit_app/pages\", exist_ok=True)\n",
    "\n",
    "# Saving the file in the correct path\n",
    "performance_df.to_csv(\"../streamlit_app/pages/model_performance.csv\", index=False)\n",
    "print(\"Model performance metrics saved to ../streamlit_app/pages/model_performance.csv\")    "
   ]
  },
  {
   "cell_type": "markdown",
   "id": "1102fd89",
   "metadata": {},
   "source": [
    "### ACCURACY PLOT"
   ]
  },
  {
   "cell_type": "code",
   "execution_count": 33,
   "id": "10197902",
   "metadata": {},
   "outputs": [
    {
     "data": {
      "image/png": "[encoded data removed]",
      "text/plain": [
       "<Figure size 1000x600 with 1 Axes>"
      ]
     },
     "metadata": {},
     "output_type": "display_data"
    }
   ],
   "source": [
    "# Set style\n",
    "sns.set(style=\"whitegrid\")\n",
    "\n",
    "# Sort models by accuracy for better visualization\n",
    "sorted_df = performance_df.sort_values(by='Accuracy', ascending=False)\n",
    "\n",
    "# Plot accuracy bar chart\n",
    "plt.figure(figsize=(10, 6))\n",
    "sns.barplot(x='Accuracy', y='Model', data=sorted_df, hue='Model', palette=\"Blues_d\", legend=False)\n",
    "\n",
    "# Add value labels to bars\n",
    "for index, value in enumerate(sorted_df['Accuracy']):\n",
    "    plt.text(value + 0.002, index, f\"{value:.4f}\", va='center')\n",
    "\n",
    "plt.title(\"Model Accuracy Comparison\")\n",
    "plt.xlabel(\"Accuracy\")\n",
    "plt.ylabel(\"Model\")\n",
    "plt.tight_layout()\n",
    "plt.show()\n"
   ]
  }
 ],
 "metadata": {
  "kernelspec": {
   "display_name": "Python (myenv)",
   "language": "python",
   "name": "myenv"
  },
  "language_info": {
   "codemirror_mode": {
    "name": "ipython",
    "version": 3
   },
   "file_extension": ".py",
   "mimetype": "text/x-python",
   "name": "python",
   "nbconvert_exporter": "python",
   "pygments_lexer": "ipython3",
   "version": "3.10.11"
  }
 },
 "nbformat": 4,
 "nbformat_minor": 5
}
